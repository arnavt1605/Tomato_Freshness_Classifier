{
  "nbformat": 4,
  "nbformat_minor": 0,
  "metadata": {
    "colab": {
      "provenance": [],
      "gpuType": "T4",
      "authorship_tag": "ABX9TyNhmImgOJmfx2BMh1ni0mZh"
    },
    "kernelspec": {
      "name": "python3",
      "display_name": "Python 3"
    },
    "language_info": {
      "name": "python"
    },
    "accelerator": "GPU"
  },
  "cells": [
    {
      "cell_type": "code",
      "source": [
        "import os\n",
        "import torch\n",
        "import torch.nn as nn\n",
        "import torchvision\n",
        "from torchvision import transforms, datasets\n",
        "from torch.utils.data import DataLoader, random_split\n",
        "from torchmetrics.classification import Accuracy\n",
        "import torchmetrics\n",
        "\n",
        "import torchvision.models as models\n",
        "\n",
        "device= torch.device(\"cuda\" if torch.cuda.is_available() else \"cpu\")"
      ],
      "metadata": {
        "id": "XxqtBRJ2-3Tg"
      },
      "execution_count": 71,
      "outputs": []
    },
    {
      "cell_type": "code",
      "source": [
        "!pip install torchmetrics"
      ],
      "metadata": {
        "id": "vNHhtBgaMIjn"
      },
      "execution_count": null,
      "outputs": []
    },
    {
      "cell_type": "code",
      "source": [
        "import zipfile\n",
        "with zipfile.ZipFile(\"tomato_data.zip\", 'r') as zip:\n",
        "  zip.extractall(\"tomato_data\")"
      ],
      "metadata": {
        "id": "WhRLL8C6_R-Q"
      },
      "execution_count": 5,
      "outputs": []
    },
    {
      "cell_type": "code",
      "source": [
        "path= '/content/tomato_data'"
      ],
      "metadata": {
        "id": "BdZ0h5H-_7p2"
      },
      "execution_count": 6,
      "outputs": []
    },
    {
      "cell_type": "code",
      "source": [
        "train_transform = transforms.Compose([\n",
        "    transforms.Resize((128, 128)),\n",
        "    transforms.RandomHorizontalFlip(),  #Removed RandomCrop(32) as it resized the image back\n",
        "    transforms.RandomRotation(10),\n",
        "    transforms.ToTensor(),\n",
        "    transforms.Normalize(mean=[0.485, 0.456, 0.406],\n",
        "                         std=[0.229, 0.224, 0.225])   #pretrained ImageNet values\n",
        "])\n",
        "\n",
        "test_transform= transforms.Compose([\n",
        "    transforms.Resize((128, 128)),\n",
        "    transforms.ToTensor(),\n",
        "    transforms.Normalize(mean=[0.485, 0.456, 0.406],\n",
        "                         std=[0.229, 0.224, 0.225])\n",
        "])"
      ],
      "metadata": {
        "id": "CsgVPh7KBd72"
      },
      "execution_count": 131,
      "outputs": []
    },
    {
      "cell_type": "code",
      "source": [
        "train_path= '/content/tomato_data/data/Training_set'\n",
        "test_path= '/content/tomato_data/data/Testing_set'\n",
        "\n",
        "train_data= datasets.ImageFolder(root=train_path, transform= train_transform)\n",
        "test_set= datasets.ImageFolder(root=test_path, transform= test_transform)\n",
        "\n",
        "for (img, label) in train_data:\n",
        "  print(img.shape)\n",
        "  break"
      ],
      "metadata": {
        "colab": {
          "base_uri": "https://localhost:8080/"
        },
        "id": "qCkQhXOXEGTz",
        "outputId": "b45e14a9-4aed-44df-b999-21df65e684e3"
      },
      "execution_count": 132,
      "outputs": [
        {
          "output_type": "stream",
          "name": "stdout",
          "text": [
            "torch.Size([3, 128, 128])\n"
          ]
        }
      ]
    },
    {
      "cell_type": "code",
      "source": [
        "train_size = int(0.85 * len(train_data))\n",
        "val_size   = len(train_data) - train_size\n",
        "\n",
        "train_set, val_set = random_split(train_data, [train_size, val_size], generator=torch.Generator().manual_seed(42))\n"
      ],
      "metadata": {
        "id": "iv81PHojF6ls"
      },
      "execution_count": 133,
      "outputs": []
    },
    {
      "cell_type": "code",
      "source": [
        "train_loader = DataLoader(train_set, batch_size=64, shuffle=True, num_workers=2)\n",
        "val_loader   = DataLoader(val_set, batch_size=64, shuffle=False, num_workers=2)\n",
        "test_loader  = DataLoader(test_set,  batch_size=64, shuffle=False, num_workers=2)\n",
        "\n",
        "\n",
        "for (img, label) in train_loader:\n",
        "  print(img.shape)\n",
        "  break"
      ],
      "metadata": {
        "colab": {
          "base_uri": "https://localhost:8080/"
        },
        "id": "zFHlyPNlJYVC",
        "outputId": "356f8e28-1892-449e-b412-09bc4a5f1faf"
      },
      "execution_count": 153,
      "outputs": [
        {
          "output_type": "stream",
          "name": "stdout",
          "text": [
            "torch.Size([64, 3, 128, 128])\n"
          ]
        }
      ]
    },
    {
      "cell_type": "code",
      "source": [
        "model = models.densenet121(weights=models.DenseNet121_Weights.DEFAULT)\n",
        "num_features = model.classifier.in_features\n",
        "model.classifier = nn.Sequential(\n",
        "    nn.Linear(num_features, 512),\n",
        "    nn.ReLU(),\n",
        "    nn.Dropout(0.3),\n",
        "    nn.Linear(512, 10)\n",
        ")\n",
        "model = model.to(device)"
      ],
      "metadata": {
        "id": "vNMuVBv7L8FC"
      },
      "execution_count": 154,
      "outputs": []
    },
    {
      "cell_type": "code",
      "source": [
        "\n",
        "loss_function= nn.CrossEntropyLoss()"
      ],
      "metadata": {
        "id": "TYOay03vL9yV"
      },
      "execution_count": 155,
      "outputs": []
    },
    {
      "cell_type": "code",
      "source": [
        "optimizer= torch.optim.Adam(model.parameters(), lr= 0.0001)\n",
        "\n",
        "scheduler= torch.optim.lr_scheduler.ReduceLROnPlateau(optimizer, mode= \"max\", factor= 0.5, patience= 3, verbose= True)\n",
        ""
      ],
      "metadata": {
        "id": "CJ6bU5WnL_JT"
      },
      "execution_count": 156,
      "outputs": []
    },
    {
      "cell_type": "code",
      "source": [
        "def train(dataloader, model, loss_function, optimizer):\n",
        "  model.train()\n",
        "  total_loss= 0\n",
        "\n",
        "  for batch, (image, label) in enumerate(dataloader):\n",
        "    image= image.to(device)\n",
        "    label= label.to(device)\n",
        "\n",
        "    prediction= model(image)\n",
        "    loss= loss_function(prediction, label)\n",
        "\n",
        "    loss.backward()\n",
        "    optimizer.step()\n",
        "    optimizer.zero_grad()\n",
        "\n",
        "    total_loss+= loss\n",
        "\n",
        "  avg_loss= total_loss / len(dataloader)\n",
        "  print(f\"Training Average Loss: {avg_loss:.4f}\")"
      ],
      "metadata": {
        "id": "IPDYKl7HMAwp"
      },
      "execution_count": 157,
      "outputs": []
    },
    {
      "cell_type": "code",
      "source": [
        "val_accuracy = Accuracy(task=\"multiclass\", num_classes=10).to(device)\n",
        "\n",
        "def validate(dataloader, model, loss_function):\n",
        "    model.eval()\n",
        "    total_loss = 0\n",
        "    val_accuracy.reset()\n",
        "\n",
        "    with torch.no_grad():\n",
        "        for image, label in dataloader:\n",
        "            image = image.to(device)\n",
        "            label = label.to(device)\n",
        "\n",
        "            pred = model(image)\n",
        "            loss = loss_function(pred, label)\n",
        "            total_loss += loss\n",
        "\n",
        "            val_accuracy.update(pred, label)\n",
        "\n",
        "    avg_loss = total_loss / len(dataloader)\n",
        "    accuracy = val_accuracy.compute() * 100  # Convert to %\n",
        "\n",
        "    print(f\"Validation Loss: {avg_loss:.4f}, Validation Accuracy: {accuracy:.2f}%\")\n",
        "\n",
        "    return accuracy\n",
        ""
      ],
      "metadata": {
        "id": "m6Vazx2GMo30"
      },
      "execution_count": 158,
      "outputs": []
    },
    {
      "cell_type": "code",
      "source": [
        "test_accuracy = Accuracy(task=\"multiclass\", num_classes=10).to(device)\n",
        "\n",
        "def test(dataloader, model, loss_function):\n",
        "    model.eval()\n",
        "    total_loss = 0\n",
        "    test_accuracy.reset()   #Reset metric state for each epoch\n",
        "\n",
        "    with torch.no_grad():\n",
        "        for image, label in dataloader:\n",
        "            image = image.to(device)\n",
        "            label = label.to(device)\n",
        "\n",
        "            pred = model(image)\n",
        "            loss = loss_function(pred, label)\n",
        "            total_loss += loss\n",
        "\n",
        "            test_accuracy.update(pred, label)\n",
        "\n",
        "    avg_loss = total_loss / len(dataloader)\n",
        "    accuracy = test_accuracy.compute() * 100  # Convert to %\n",
        "\n",
        "    print(f\"Test Loss: {avg_loss:.4f}, Test Accuracy: {accuracy:.2f}%\")\n",
        "\n",
        "    return accuracy"
      ],
      "metadata": {
        "id": "OHSaFlFoMqsZ"
      },
      "execution_count": 159,
      "outputs": []
    },
    {
      "cell_type": "code",
      "source": [
        "epochs = 50\n",
        "for epoch in range(epochs):\n",
        "    print(f\"\\nEpoch {epoch+1}/{epochs}\")\n",
        "    train(train_loader, model, loss_function, optimizer)\n",
        "    val_acc = validate(val_loader, model, loss_function)\n",
        "    scheduler.step(val_acc)\n",
        "print(\"\\n\")\n",
        "print(\"-----------------------------------------------------------------\")\n",
        "print(\"\\n\")\n",
        "test(test_loader, model, loss_function)"
      ],
      "metadata": {
        "colab": {
          "base_uri": "https://localhost:8080/"
        },
        "id": "EXLRpD6EMsrk",
        "outputId": "2f94c900-f185-4e34-eb1b-a23c89ae85a7"
      },
      "execution_count": 160,
      "outputs": [
        {
          "output_type": "stream",
          "name": "stdout",
          "text": [
            "\n",
            "Epoch 1/50\n",
            "Training Average Loss: 1.5350\n",
            "Validation Loss: 1.4801, Validation Accuracy: 50.20%\n",
            "\n",
            "Epoch 2/50\n",
            "Training Average Loss: 1.1721\n",
            "Validation Loss: 1.2772, Validation Accuracy: 51.63%\n",
            "\n",
            "Epoch 3/50\n",
            "Training Average Loss: 1.0457\n",
            "Validation Loss: 1.1343, Validation Accuracy: 57.74%\n",
            "\n",
            "Epoch 4/50\n",
            "Training Average Loss: 0.8864\n",
            "Validation Loss: 1.1271, Validation Accuracy: 60.21%\n",
            "\n",
            "Epoch 5/50\n",
            "Training Average Loss: 0.7965\n",
            "Validation Loss: 0.9812, Validation Accuracy: 59.69%\n",
            "\n",
            "Epoch 6/50\n",
            "Training Average Loss: 0.7465\n",
            "Validation Loss: 1.1364, Validation Accuracy: 56.18%\n",
            "\n",
            "Epoch 7/50\n",
            "Training Average Loss: 0.6617\n",
            "Validation Loss: 0.9769, Validation Accuracy: 65.67%\n",
            "\n",
            "Epoch 8/50\n",
            "Training Average Loss: 0.6249\n",
            "Validation Loss: 0.9833, Validation Accuracy: 61.90%\n",
            "\n",
            "Epoch 9/50\n",
            "Training Average Loss: 0.5607\n",
            "Validation Loss: 0.9105, Validation Accuracy: 67.49%\n",
            "\n",
            "Epoch 10/50\n",
            "Training Average Loss: 0.4969\n",
            "Validation Loss: 0.9678, Validation Accuracy: 68.92%\n",
            "\n",
            "Epoch 11/50\n",
            "Training Average Loss: 0.4555\n",
            "Validation Loss: 1.0392, Validation Accuracy: 64.37%\n",
            "\n",
            "Epoch 12/50\n",
            "Training Average Loss: 0.5464\n",
            "Validation Loss: 1.0250, Validation Accuracy: 66.32%\n",
            "\n",
            "Epoch 13/50\n",
            "Training Average Loss: 0.4941\n",
            "Validation Loss: 1.0054, Validation Accuracy: 68.79%\n",
            "\n",
            "Epoch 14/50\n",
            "Training Average Loss: 0.3734\n",
            "Validation Loss: 1.0486, Validation Accuracy: 67.10%\n",
            "\n",
            "Epoch 15/50\n",
            "Training Average Loss: 0.2755\n",
            "Validation Loss: 0.9835, Validation Accuracy: 68.27%\n",
            "\n",
            "Epoch 16/50\n",
            "Training Average Loss: 0.2191\n",
            "Validation Loss: 0.9355, Validation Accuracy: 71.52%\n",
            "\n",
            "Epoch 17/50\n",
            "Training Average Loss: 0.1915\n",
            "Validation Loss: 1.1322, Validation Accuracy: 71.00%\n",
            "\n",
            "Epoch 18/50\n",
            "Training Average Loss: 0.1705\n",
            "Validation Loss: 1.0340, Validation Accuracy: 69.31%\n",
            "\n",
            "Epoch 19/50\n",
            "Training Average Loss: 0.1679\n",
            "Validation Loss: 1.0635, Validation Accuracy: 68.66%\n",
            "\n",
            "Epoch 20/50\n",
            "Training Average Loss: 0.2095\n",
            "Validation Loss: 1.3693, Validation Accuracy: 71.00%\n",
            "\n",
            "Epoch 21/50\n",
            "Training Average Loss: 0.1246\n",
            "Validation Loss: 1.2547, Validation Accuracy: 69.96%\n",
            "\n",
            "Epoch 22/50\n",
            "Training Average Loss: 0.1058\n",
            "Validation Loss: 1.1288, Validation Accuracy: 71.26%\n",
            "\n",
            "Epoch 23/50\n",
            "Training Average Loss: 0.1798\n",
            "Validation Loss: 1.4652, Validation Accuracy: 71.78%\n",
            "\n",
            "Epoch 24/50\n",
            "Training Average Loss: 0.0792\n",
            "Validation Loss: 1.5635, Validation Accuracy: 69.70%\n",
            "\n",
            "Epoch 25/50\n",
            "Training Average Loss: 0.0740\n",
            "Validation Loss: 1.1280, Validation Accuracy: 72.43%\n",
            "\n",
            "Epoch 26/50\n",
            "Training Average Loss: 0.0698\n",
            "Validation Loss: 1.4803, Validation Accuracy: 71.26%\n",
            "\n",
            "Epoch 27/50\n",
            "Training Average Loss: 0.0682\n",
            "Validation Loss: 1.3091, Validation Accuracy: 72.82%\n",
            "\n",
            "Epoch 28/50\n",
            "Training Average Loss: 0.0673\n",
            "Validation Loss: 1.2184, Validation Accuracy: 71.26%\n",
            "\n",
            "Epoch 29/50\n",
            "Training Average Loss: 0.1431\n",
            "Validation Loss: 1.3908, Validation Accuracy: 72.30%\n",
            "\n",
            "Epoch 30/50\n",
            "Training Average Loss: 0.1289\n",
            "Validation Loss: 1.4080, Validation Accuracy: 70.22%\n",
            "\n",
            "Epoch 31/50\n",
            "Training Average Loss: 0.1061\n",
            "Validation Loss: 1.4019, Validation Accuracy: 70.61%\n",
            "\n",
            "Epoch 32/50\n",
            "Training Average Loss: 0.0618\n",
            "Validation Loss: 1.2789, Validation Accuracy: 71.00%\n",
            "\n",
            "Epoch 33/50\n",
            "Training Average Loss: 0.0514\n",
            "Validation Loss: 1.5652, Validation Accuracy: 72.30%\n",
            "\n",
            "Epoch 34/50\n",
            "Training Average Loss: 0.1052\n",
            "Validation Loss: 1.3521, Validation Accuracy: 71.65%\n",
            "\n",
            "Epoch 35/50\n",
            "Training Average Loss: 0.0471\n",
            "Validation Loss: 1.1813, Validation Accuracy: 70.22%\n",
            "\n",
            "Epoch 36/50\n",
            "Training Average Loss: 0.0511\n",
            "Validation Loss: 1.4016, Validation Accuracy: 70.48%\n",
            "\n",
            "Epoch 37/50\n",
            "Training Average Loss: 0.0414\n",
            "Validation Loss: 1.4084, Validation Accuracy: 70.74%\n",
            "\n",
            "Epoch 38/50\n",
            "Training Average Loss: 0.0337\n",
            "Validation Loss: 1.2603, Validation Accuracy: 71.78%\n",
            "\n",
            "Epoch 39/50\n",
            "Training Average Loss: 0.0709\n",
            "Validation Loss: 1.4304, Validation Accuracy: 72.04%\n",
            "\n",
            "Epoch 40/50\n",
            "Training Average Loss: 0.0392\n",
            "Validation Loss: 1.3141, Validation Accuracy: 70.48%\n",
            "\n",
            "Epoch 41/50\n",
            "Training Average Loss: 0.0770\n",
            "Validation Loss: 1.2686, Validation Accuracy: 71.65%\n",
            "\n",
            "Epoch 42/50\n",
            "Training Average Loss: 0.0868\n",
            "Validation Loss: 1.6028, Validation Accuracy: 71.52%\n",
            "\n",
            "Epoch 43/50\n",
            "Training Average Loss: 0.0342\n",
            "Validation Loss: 1.2677, Validation Accuracy: 71.65%\n",
            "\n",
            "Epoch 44/50\n",
            "Training Average Loss: 0.0351\n",
            "Validation Loss: 1.4446, Validation Accuracy: 73.08%\n",
            "\n",
            "Epoch 45/50\n",
            "Training Average Loss: 0.0306\n",
            "Validation Loss: 1.2958, Validation Accuracy: 71.00%\n",
            "\n",
            "Epoch 46/50\n",
            "Training Average Loss: 0.0810\n",
            "Validation Loss: 1.3900, Validation Accuracy: 71.52%\n",
            "\n",
            "Epoch 47/50\n",
            "Training Average Loss: 0.0391\n",
            "Validation Loss: 1.4917, Validation Accuracy: 70.35%\n",
            "\n",
            "Epoch 48/50\n",
            "Training Average Loss: 0.0748\n",
            "Validation Loss: 1.2750, Validation Accuracy: 72.69%\n",
            "\n",
            "Epoch 49/50\n",
            "Training Average Loss: 0.0366\n",
            "Validation Loss: 1.2806, Validation Accuracy: 71.65%\n",
            "\n",
            "Epoch 50/50\n",
            "Training Average Loss: 0.0803\n",
            "Validation Loss: 1.7097, Validation Accuracy: 71.13%\n",
            "\n",
            "\n",
            "-----------------------------------------------------------------\n",
            "\n",
            "\n",
            "Test Loss: 1.0162, Test Accuracy: 71.69%\n"
          ]
        },
        {
          "output_type": "execute_result",
          "data": {
            "text/plain": [
              "tensor(71.6863, device='cuda:0')"
            ]
          },
          "metadata": {},
          "execution_count": 160
        }
      ]
    },
    {
      "cell_type": "code",
      "source": [],
      "metadata": {
        "id": "UPHHDtI52K5u"
      },
      "execution_count": null,
      "outputs": []
    }
  ]
}